{
 "cells": [
  {
   "cell_type": "code",
   "execution_count": 33,
   "id": "51a43d55-51e4-446b-8fdf-98ae4ef2a585",
   "metadata": {},
   "outputs": [
    {
     "name": "stdin",
     "output_type": "stream",
     "text": [
      "Please enter your weight in pounds: 185\n",
      "Please enter your height in inches: 72\n"
     ]
    },
    {
     "name": "stdout",
     "output_type": "stream",
     "text": [
      "You entered 185 pounds as your weight.\n",
      "You entered 72 inches as your height.\n",
      "Your BMI is 25.09\n",
      "According to the BMI Scale, you are classified as Overweight.\n",
      "To be classified as Normal Weight, you would need to lose 0.72 pounds.\n"
     ]
    }
   ],
   "source": [
    "## Today, I will attempt to rebuild my BMI calculator\n",
    "\n",
    "## User will enter weight and height\n",
    "user_weight = int(input(\"Please enter your weight in pounds:\"))\n",
    "user_height = int(input(\"Please enter your height in inches:\"))\n",
    "\n",
    "## Entered weight and height will be printed\n",
    "print(f'You entered {user_weight} pounds as your weight.')\n",
    "print(f'You entered {user_height} inches as your height.')\n",
    "\n",
    "## BMI will be calculated and printed based on entered values\n",
    "bmi = float(703 * (user_weight/(user_height ** 2)))\n",
    "bmi_statement = f'Your BMI is {bmi:.2f}'\n",
    "print(bmi_statement)\n",
    "\n",
    "## Calculating the weight range that would be classified as normal based on the user's height\n",
    "normal_weight_min = (18.50 * (user_height ** 2)) / 703\n",
    "normal_weight_max = (24.99 * (user_height ** 2)) / 703\n",
    "weight_deviance_min = abs(normal_weight_min - user_weight)\n",
    "weight_deviance_max = abs(normal_weight_max - user_weight)\n",
    "\n",
    "if bmi < 18.5:\n",
    "    print(\"According to the BMI Scale, you are classified as Underweight.\")\n",
    "    print(f\"To be classified as Normal Weight, you would need to gain {weight_deviance_min:.2f} pounds.\")\n",
    "elif 18.5 <= bmi <= 24.99:\n",
    "    print(\"According to the BMI scale, you are classified as Normal Weight.\")\n",
    "elif 25.00 <= 29.99:\n",
    "    print(\"According to the BMI Scale, you are classified as Overweight.\")\n",
    "    print(f\"To be classified as Normal Weight, you would need to lose {weight_deviance_max:.2f} pounds.\")\n",
    "elif 30.00 <= 34.99:\n",
    "    print(\"According to the BMI Scale, you are classified as Obesity Class 1.\")\n",
    "    print(f\"To be classified as Normal Weight, you would need to lose {weight_deviance_max:.2f} pounds.\")\n",
    "elif 35.00 <= 39.99:\n",
    "    print(\"According to the BMI Scale, you are classified as Overweight.\")\n",
    "    print(f\"To be classified as Normal Weight, you would need to lose {weight_deviance_max:.2f} pounds.\")\n",
    "elif 40.00:\n",
    "    print(\"According to the BMI Scale, you are classified as Overweight.\")\n",
    "    print(f\"To be classified as Normal Weight, you would need to lose {weight_deviance_max:.2f} pounds.\")\n"
   ]
  },
  {
   "cell_type": "code",
   "execution_count": null,
   "id": "54e1b8b5-4af2-483f-b3fe-5674f8ddf136",
   "metadata": {},
   "outputs": [],
   "source": []
  }
 ],
 "metadata": {
  "kernelspec": {
   "display_name": "Python [conda env:base] *",
   "language": "python",
   "name": "conda-base-py"
  },
  "language_info": {
   "codemirror_mode": {
    "name": "ipython",
    "version": 3
   },
   "file_extension": ".py",
   "mimetype": "text/x-python",
   "name": "python",
   "nbconvert_exporter": "python",
   "pygments_lexer": "ipython3",
   "version": "3.12.7"
  }
 },
 "nbformat": 4,
 "nbformat_minor": 5
}
